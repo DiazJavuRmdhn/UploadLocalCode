{
 "cells": [
  {
   "cell_type": "code",
   "execution_count": 79,
   "metadata": {},
   "outputs": [],
   "source": [
    "#libs\n",
    "import os\n",
    "import tensorflow as tf\n",
    "import matplotlib.pyplot as plt\n",
    "import numpy as np\n",
    "import shutil\n",
    "import random\n",
    "from tensorflow.keras.preprocessing.image import ImageDataGenerator"
   ]
  },
  {
   "cell_type": "code",
   "execution_count": 65,
   "metadata": {},
   "outputs": [
    {
     "data": {
      "text/plain": [
       "['anothertest.ipynb',\n",
       " 'b1797683-c5b0-4e97-968e-8605a009b1ab.zip',\n",
       " 'c3ff606d-2eda-4ce6-9274-4b9a14abaa84.zip',\n",
       " 'Datasets',\n",
       " 'Getting Started.ipynb',\n",
       " 'IMGClass',\n",
       " 'Logs',\n",
       " 'Model',\n",
       " 'Python Ilt Session.py',\n",
       " 'test2.ipynb',\n",
       " 'testboof.ipynb',\n",
       " 'tsjsCourse',\n",
       " 'TutsDataset',\n",
       " 'TutsDatasetV2']"
      ]
     },
     "execution_count": 65,
     "metadata": {},
     "output_type": "execute_result"
    }
   ],
   "source": [
    "#declare da placement\n",
    "\n",
    "os.listdir()"
   ]
  },
  {
   "cell_type": "code",
   "execution_count": 66,
   "metadata": {},
   "outputs": [
    {
     "name": "stdout",
     "output_type": "stream",
     "text": [
      "['Cats', 'Dogs', 'training', 'validation']\n"
     ]
    }
   ],
   "source": [
    "#dataload\n",
    "base_path = \"TutsDatasetV2\"\n",
    "os.makedirs(os.path.join(base_path, \"training\"))\n",
    "os.makedirs(os.path.join(f'{base_path}/training', \"dogs\"))\n",
    "os.makedirs(os.path.join(f'{base_path}/training', \"cats\"))\n",
    "os.makedirs(os.path.join(base_path, \"validation\"))\n",
    "os.makedirs(os.path.join(f'{base_path}/validation', \"dogs\"))\n",
    "os.makedirs(os.path.join(f'{base_path}/validation', \"cats\"))\n",
    "print(os.listdir(base_path))"
   ]
  },
  {
   "cell_type": "code",
   "execution_count": 67,
   "metadata": {},
   "outputs": [],
   "source": [
    "Cat_SRC = \"TutsDatasetV2/Cats/\"\n",
    "Dog_SRC = \"TutsDatasetV2/Dogs/\"\n",
    "Train_Dir = \"TutsDatasetV2/training/\"\n",
    "Valid_Dir = \"TutsDatasetV2/validation/\"\n",
    "Cat_Train_Dir = \"TutsDatasetV2/training/cats/\"\n",
    "Dog_Train_Dir = \"TutsDatasetV2/training/dogs/\"\n",
    "Cat_Val_Dir = \"TutsDatasetV2/validation/cats/\"\n",
    "Dog_Val_Dir = \"TutsDatasetV2/validation/dogs/\""
   ]
  },
  {
   "cell_type": "code",
   "execution_count": 68,
   "metadata": {},
   "outputs": [],
   "source": [
    "if len(os.listdir(Cat_Train_Dir)) > 0:\n",
    "  for file in os.scandir(Cat_Train_Dir):\n",
    "    os.remove(file.path)\n",
    "if len(os.listdir(Dog_Train_Dir)) > 0:\n",
    "  for file in os.scandir(Dog_Train_Dir):\n",
    "    os.remove(file.path)\n",
    "if len(os.listdir(Cat_Val_Dir)) > 0:\n",
    "  for file in os.scandir(Cat_Val_Dir):\n",
    "    os.remove(file.path)\n",
    "if len(os.listdir(Dog_Val_Dir)) > 0:\n",
    "  for file in os.scandir(Dog_Val_Dir):\n",
    "    os.remove(file.path)"
   ]
  },
  {
   "cell_type": "code",
   "execution_count": 69,
   "metadata": {},
   "outputs": [],
   "source": [
    "def split_data(SOURCE_DIR, TRAINING_DIR, VALIDATION_DIR, SPLIT_SIZE):\n",
    "\n",
    "  files = []\n",
    "  for filename in os.listdir(SOURCE_DIR):\n",
    "    file = SOURCE_DIR + filename\n",
    "    if os.path.getsize(file)>0:\n",
    "      files.append(filename)\n",
    "    else:\n",
    "      print(filename + \" is zero length, so ignoring.\")\n",
    "  \n",
    "  train_length = int(len(files)*SPLIT_SIZE)\n",
    "  test_length = int(len(files)-train_length)\n",
    "  shuffle_set = random.sample(files, len(files))\n",
    "  train_set = shuffle_set[0:train_length]\n",
    "  test_set = shuffle_set[-test_length:]\n",
    "\n",
    "  for filename in train_set:\n",
    "    this_file = SOURCE_DIR + filename\n",
    "    destination = TRAINING_DIR + filename\n",
    "    shutil.copyfile(this_file, destination)\n",
    "\n",
    "  for filename in test_set:\n",
    "    this_file = SOURCE_DIR + filename\n",
    "    destination = VALIDATION_DIR + filename\n",
    "    shutil.copyfile(this_file, destination)"
   ]
  },
  {
   "cell_type": "code",
   "execution_count": 70,
   "metadata": {},
   "outputs": [],
   "source": [
    "split_size = .6"
   ]
  },
  {
   "cell_type": "code",
   "execution_count": 71,
   "metadata": {},
   "outputs": [],
   "source": [
    "split_data(Cat_SRC, Cat_Train_Dir, Cat_Val_Dir, split_size)\n",
    "split_data(Dog_SRC, Dog_Train_Dir, Dog_Val_Dir, split_size)"
   ]
  },
  {
   "cell_type": "code",
   "execution_count": 72,
   "metadata": {},
   "outputs": [
    {
     "name": "stdout",
     "output_type": "stream",
     "text": [
      "TrainCat = 51\n",
      "TrainDog = 52\n",
      "CatVal = 34\n",
      "DogVal = 35\n"
     ]
    }
   ],
   "source": [
    "print(f\"TrainCat = {len(os.listdir(Cat_Train_Dir))}\")\n",
    "print(f\"TrainDog = {len(os.listdir(Dog_Train_Dir))}\")\n",
    "print(f\"CatVal = {len(os.listdir(Cat_Val_Dir))}\")\n",
    "print(f\"DogVal = {len(os.listdir(Dog_Val_Dir))}\")"
   ]
  },
  {
   "cell_type": "code",
   "execution_count": 73,
   "metadata": {},
   "outputs": [],
   "source": [
    "def train_val_generators(TRAINING_DIR, VALIDATION_DIR):\n",
    "  # Instantiate the ImageDataGenerator class (don't forget to set the rescale argument)\n",
    "  train_datagen = ImageDataGenerator(rescale = 1./255)\n",
    "  # Pass in the appropriate arguments to the flow_from_directory method\n",
    "  train_generator = train_datagen.flow_from_directory(directory=TRAINING_DIR,\n",
    "                                                      batch_size=100,\n",
    "                                                      class_mode='binary',\n",
    "                                                      target_size=(150, 150))\n",
    "\n",
    "  # Instantiate the ImageDataGenerator class (don't forget to set the rescale argument)\n",
    "  validation_datagen = ImageDataGenerator(rescale = 1./255)\n",
    "\n",
    "  # Pass in the appropriate arguments to the flow_from_directory method\n",
    "  validation_generator = validation_datagen.flow_from_directory(directory=VALIDATION_DIR,\n",
    "                                                                batch_size=100,\n",
    "                                                                class_mode='binary',\n",
    "                                                                target_size=(150, 150))\n",
    "  ### END CODE HERE\n",
    "  return train_generator, validation_generator"
   ]
  },
  {
   "cell_type": "code",
   "execution_count": 82,
   "metadata": {},
   "outputs": [
    {
     "name": "stdout",
     "output_type": "stream",
     "text": [
      "Found 103 images belonging to 2 classes.\n",
      "Found 69 images belonging to 2 classes.\n"
     ]
    }
   ],
   "source": [
    "train_generator, valid_generator = train_val_generators(Train_Dir, Valid_Dir)"
   ]
  },
  {
   "cell_type": "code",
   "execution_count": 83,
   "metadata": {},
   "outputs": [],
   "source": [
    "model = tf.keras.models.Sequential(\n",
    "    [\n",
    "        tf.keras.layers.Conv2D(16, (3,3), activation=\"relu\", input_shape=(150,150,3)),\n",
    "        tf.keras.layers.MaxPooling2D(2,2),\n",
    "        tf.keras.layers.Conv2D(32, (3,3), activation=\"relu\"),\n",
    "        tf.keras.layers.MaxPooling2D(2,2),\n",
    "        tf.keras.layers.Flatten(),\n",
    "        tf.keras.layers.Dense(128, activation=\"relu\"),\n",
    "        tf.keras.layers.Dense(1, activation=\"sigmoid\")\n",
    "    ]\n",
    ")"
   ]
  },
  {
   "cell_type": "code",
   "execution_count": 84,
   "metadata": {},
   "outputs": [],
   "source": [
    "from tensorflow.keras.optimizers import Adam\n",
    "model.compile(optimizer=\"Adam\", loss= \"binary_crossentropy\", metrics=[\"accuracy\"])"
   ]
  },
  {
   "cell_type": "code",
   "execution_count": 85,
   "metadata": {},
   "outputs": [
    {
     "name": "stderr",
     "output_type": "stream",
     "text": [
      "c:\\Users\\Diaz R\\AppData\\Local\\Programs\\Python\\Python311\\Lib\\site-packages\\PIL\\Image.py:996: UserWarning: Palette images with Transparency expressed in bytes should be converted to RGBA images\n",
      "  warnings.warn(\n"
     ]
    },
    {
     "name": "stdout",
     "output_type": "stream",
     "text": [
      "Epoch 1/20\n",
      "2/2 [==============================] - 6s 3s/step - loss: 0.6730 - accuracy: 0.5340 - val_loss: 7.8337 - val_accuracy: 0.4928\n",
      "Epoch 2/20\n",
      "2/2 [==============================] - 4s 1s/step - loss: 7.7000 - accuracy: 0.4951 - val_loss: 2.2201 - val_accuracy: 0.5072\n",
      "Epoch 3/20\n",
      "2/2 [==============================] - 4s 4s/step - loss: 2.0188 - accuracy: 0.5049 - val_loss: 0.7053 - val_accuracy: 0.5942\n",
      "Epoch 4/20\n",
      "2/2 [==============================] - 4s 4s/step - loss: 1.2017 - accuracy: 0.5243 - val_loss: 1.3769 - val_accuracy: 0.4928\n",
      "Epoch 5/20\n",
      "2/2 [==============================] - 4s 2s/step - loss: 1.1534 - accuracy: 0.5340 - val_loss: 0.8355 - val_accuracy: 0.5072\n",
      "Epoch 6/20\n",
      "2/2 [==============================] - 4s 4s/step - loss: 1.1324 - accuracy: 0.5049 - val_loss: 1.2910 - val_accuracy: 0.5072\n",
      "Epoch 7/20\n",
      "2/2 [==============================] - 4s 4s/step - loss: 1.1085 - accuracy: 0.5049 - val_loss: 1.0034 - val_accuracy: 0.5072\n",
      "Epoch 8/20\n",
      "2/2 [==============================] - 4s 4s/step - loss: 0.5775 - accuracy: 0.5437 - val_loss: 0.7014 - val_accuracy: 0.5652\n",
      "Epoch 9/20\n",
      "2/2 [==============================] - 4s 2s/step - loss: 0.4529 - accuracy: 0.8252 - val_loss: 0.7709 - val_accuracy: 0.5362\n",
      "Epoch 10/20\n",
      "2/2 [==============================] - 4s 2s/step - loss: 0.5215 - accuracy: 0.6990 - val_loss: 0.8287 - val_accuracy: 0.5507\n",
      "Epoch 11/20\n",
      "2/2 [==============================] - 4s 4s/step - loss: 0.4974 - accuracy: 0.7282 - val_loss: 0.7098 - val_accuracy: 0.5797\n",
      "Epoch 12/20\n",
      "2/2 [==============================] - 4s 4s/step - loss: 0.3685 - accuracy: 0.8544 - val_loss: 0.7172 - val_accuracy: 0.5507\n",
      "Epoch 13/20\n",
      "2/2 [==============================] - 4s 4s/step - loss: 0.3497 - accuracy: 0.8641 - val_loss: 0.7526 - val_accuracy: 0.5942\n",
      "Epoch 14/20\n",
      "2/2 [==============================] - 4s 4s/step - loss: 0.3355 - accuracy: 0.8544 - val_loss: 0.7693 - val_accuracy: 0.5942\n",
      "Epoch 15/20\n",
      "2/2 [==============================] - 4s 2s/step - loss: 0.3137 - accuracy: 0.8641 - val_loss: 0.7065 - val_accuracy: 0.6087\n",
      "Epoch 16/20\n",
      "2/2 [==============================] - 4s 1s/step - loss: 0.2757 - accuracy: 0.8932 - val_loss: 0.7042 - val_accuracy: 0.6232\n",
      "Epoch 17/20\n",
      "2/2 [==============================] - 4s 4s/step - loss: 0.2452 - accuracy: 0.9029 - val_loss: 0.7319 - val_accuracy: 0.6522\n",
      "Epoch 18/20\n",
      "2/2 [==============================] - 4s 4s/step - loss: 0.3232 - accuracy: 0.8738 - val_loss: 0.8776 - val_accuracy: 0.6087\n",
      "Epoch 19/20\n",
      "2/2 [==============================] - 4s 4s/step - loss: 0.2558 - accuracy: 0.9029 - val_loss: 0.8584 - val_accuracy: 0.6232\n",
      "Epoch 20/20\n",
      "2/2 [==============================] - 4s 4s/step - loss: 0.4174 - accuracy: 0.7573 - val_loss: 0.8688 - val_accuracy: 0.6087\n"
     ]
    }
   ],
   "source": [
    "history =  model.fit(train_generator, epochs=20, validation_data=valid_generator)"
   ]
  },
  {
   "cell_type": "code",
   "execution_count": 86,
   "metadata": {},
   "outputs": [
    {
     "data": {
      "image/png": "[encoded data removed]",
      "text/plain": [
       "<Figure size 640x480 with 1 Axes>"
      ]
     },
     "metadata": {},
     "output_type": "display_data"
    },
    {
     "name": "stdout",
     "output_type": "stream",
     "text": [
      "\n"
     ]
    },
    {
     "data": {
      "image/png": "[encoded data removed]",
      "text/plain": [
       "<Figure size 640x480 with 1 Axes>"
      ]
     },
     "metadata": {},
     "output_type": "display_data"
    }
   ],
   "source": [
    "acc=history.history['accuracy']\n",
    "val_acc=history.history['val_accuracy']\n",
    "loss=history.history['loss']\n",
    "val_loss=history.history['val_loss']\n",
    "\n",
    "epochs=range(len(acc)) # Get number of epochs\n",
    "\n",
    "#------------------------------------------------\n",
    "# Plot training and validation accuracy per epoch\n",
    "#------------------------------------------------\n",
    "plt.plot(epochs, acc, 'r', \"Training Accuracy\")\n",
    "plt.plot(epochs, val_acc, 'b', \"Validation Accuracy\")\n",
    "plt.title('Training and validation accuracy')\n",
    "plt.show()\n",
    "print(\"\")\n",
    "\n",
    "#------------------------------------------------\n",
    "# Plot training and validation loss per epoch\n",
    "#------------------------------------------------\n",
    "plt.plot(epochs, loss, 'r', \"Training Loss\")\n",
    "plt.plot(epochs, val_loss, 'b', \"Validation Loss\")\n",
    "plt.show()"
   ]
  },
  {
   "cell_type": "code",
   "execution_count": 88,
   "metadata": {},
   "outputs": [
    {
     "name": "stderr",
     "output_type": "stream",
     "text": [
      "WARNING:absl:Found untraced functions such as _jit_compiled_convolution_op, _jit_compiled_convolution_op, _update_step_xla while saving (showing 3 of 3). These functions will not be directly callable after loading.\n"
     ]
    },
    {
     "name": "stdout",
     "output_type": "stream",
     "text": [
      "INFO:tensorflow:Assets written to: Model/Testmodel2\\assets\n"
     ]
    },
    {
     "name": "stderr",
     "output_type": "stream",
     "text": [
      "INFO:tensorflow:Assets written to: Model/Testmodel2\\assets\n"
     ]
    }
   ],
   "source": [
    "model.save(\"Model/Testmodel2\")"
   ]
  },
  {
   "cell_type": "code",
   "execution_count": null,
   "metadata": {},
   "outputs": [],
   "source": []
  }
 ],
 "metadata": {
  "kernelspec": {
   "display_name": "Python 3",
   "language": "python",
   "name": "python3"
  },
  "language_info": {
   "codemirror_mode": {
    "name": "ipython",
    "version": 3
   },
   "file_extension": ".py",
   "mimetype": "text/x-python",
   "name": "python",
   "nbconvert_exporter": "python",
   "pygments_lexer": "ipython3",
   "version": "3.11.1"
  },
  "orig_nbformat": 4
 },
 "nbformat": 4,
 "nbformat_minor": 2
}
